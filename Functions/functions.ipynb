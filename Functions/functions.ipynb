{
 "cells": [
  {
   "cell_type": "code",
   "execution_count": 2,
   "metadata": {},
   "outputs": [
    {
     "name": "stdout",
     "output_type": "stream",
     "text": [
      "Kamronbek siz 2003 yilda tug'ilgansiz\n"
     ]
    }
   ],
   "source": [
    "import datetime\n",
    "today = datetime.date.today()\n",
    "year = today.year\n",
    "def yosh_sura():\n",
    "    \"\"\" Ism va yoshni so'rab tug'ilgan yilni hisoblab beradigan funktsiya\"\"\"\n",
    "    ism = input('Ismingiz? ')\n",
    "    yosh = int(input(f\"Yoshngiz nechchida {ism}?\"))\n",
    "    print(f\"{ism} siz {year - yosh} yilda tug'ilgansiz\")\n",
    "\n",
    "yosh_sura()\n"
   ]
  },
  {
   "cell_type": "code",
   "execution_count": 5,
   "metadata": {},
   "outputs": [
    {
     "name": "stdout",
     "output_type": "stream",
     "text": [
      "5ning kvadrati 25 kubi esa 125\n",
      "Kv va kubga oshiruvchi funktsiya\n"
     ]
    }
   ],
   "source": [
    "def kv_kub_oshir(a):\n",
    "    \"\"\"Kv va kubga oshiruvchi funktsiya\"\"\"\n",
    "    print(f\"{a}ning kvadrati {a**2} kubi esa {a**3}\")\n",
    "\n",
    "kv_kub_oshir(5)\n",
    "print(kv_kub_oshir.__doc__)"
   ]
  },
  {
   "cell_type": "code",
   "execution_count": 9,
   "metadata": {},
   "outputs": [
    {
     "name": "stdout",
     "output_type": "stream",
     "text": [
      "15468 juft\n"
     ]
    }
   ],
   "source": [
    "def od_even(a):\n",
    "    \"\"\"Toq yoki juft\"\"\"\n",
    "    if a%2 == 0:\n",
    "        print(f\"{a} juft\")\n",
    "    else: print(\"toq\")\n",
    "\n",
    "od_even(15468)"
   ]
  },
  {
   "cell_type": "code",
   "execution_count": 12,
   "metadata": {},
   "outputs": [
    {
     "name": "stdout",
     "output_type": "stream",
     "text": [
      "7 = 7 \n"
     ]
    }
   ],
   "source": [
    "def kattasini_chiqar(a,b):\n",
    "    if a>b :\n",
    "        print(f\"{a} {b} dan katta\")\n",
    "    elif a == b:\n",
    "        print(f\"{a} = {b} \")\n",
    "    else:\n",
    "         print(f\"{b} {a} dan katta\")\n",
    "kattasini_chiqar(7,7)"
   ]
  },
  {
   "cell_type": "code",
   "execution_count": 17,
   "metadata": {},
   "outputs": [
    {
     "name": "stdout",
     "output_type": "stream",
     "text": [
      "64\n"
     ]
    }
   ],
   "source": [
    "def darajagaOshir(a,b = 2):\n",
    "    if a>b :\n",
    "        print(f\"{a**b}\")\n",
    "    elif a == b:\n",
    "        print(b*a)\n",
    "    else:\n",
    "         print(f\"{b**a} \")\n",
    "\n",
    "darajagaOshir(8)\n"
   ]
  },
  {
   "cell_type": "code",
   "execution_count": 21,
   "metadata": {},
   "outputs": [
    {
     "name": "stdout",
     "output_type": "stream",
     "text": [
      "12 2ga qoldiqsiz bo'linadi\n",
      "12 3ga qoldiqsiz bo'linadi\n",
      "12 4ga qoldiqsiz bo'linadi\n",
      "5ga qoldiqli bo'linadi\n",
      "12 6ga qoldiqsiz bo'linadi\n",
      "7ga qoldiqli bo'linadi\n",
      "8ga qoldiqli bo'linadi\n",
      "9ga qoldiqli bo'linadi\n",
      "10ga qoldiqli bo'linadi\n"
     ]
    }
   ],
   "source": [
    "def tekshir(a):\n",
    "    for n in range(2,11):\n",
    "        if not a%n:\n",
    "            print(f\"{a} {n}ga qoldiqsiz bo'linadi\")\n",
    "        else:print(f\"{n}ga qoldiqli bo'linadi\")\n",
    "tekshir(12)"
   ]
  },
  {
   "cell_type": "code",
   "execution_count": null,
   "metadata": {},
   "outputs": [],
   "source": [
    "def oraliq(mn,mx, qadam=None):\n",
    "    sonlar = []\n",
    "    while mn<mx:\n",
    "        if qadam:\n",
    "            sonlar.append(mn)\n",
    "            mn+=qadam\n",
    "            \n",
    "\n",
    "        else:\n",
    "             sonlar.append(mn)\n",
    "             mn+=1\n",
    "    return sonlar\n",
    "\n",
    "oraliq1 = oraliq(0,10)\n",
    "print(oraliq1)"
   ]
  },
  {
   "cell_type": "code",
   "execution_count": 29,
   "metadata": {},
   "outputs": [
    {
     "name": "stdout",
     "output_type": "stream",
     "text": [
      "{'ism': 'Kamronbek', 'familiya': 'Solih', 't_yil': 2002, 'yosh': 20, 't_joy': 'Nanay', 'email': 'kamronbeksolih@gmail.com', 'telraqam': None}\n"
     ]
    }
   ],
   "source": [
    "import datetime\n",
    "def shaxsiy_malumotlar_yiguvchi(ism, familiya, t_yil, t_joy, email = None, telraqam =None):\n",
    "    personal_info = {\n",
    "        'ism':ism,\n",
    "        'familiya':familiya,\n",
    "        \"t_yil\":t_yil,\n",
    "        \"yosh\": datetime.date.today().year - t_yil,\n",
    "        \"t_joy\":t_joy,\n",
    "        \"email\":email,\n",
    "        \"telraqam\":telraqam\n",
    "    }\n",
    "    return personal_info\n",
    "\n",
    "print(shaxsiy_malumotlar_yiguvchi(\"Kamronbek\",\"Solih\", 2002, \"Nanay\",\"kamronbeksolih@gmail.com\"))\n",
    "\n"
   ]
  },
  {
   "cell_type": "markdown",
   "metadata": {},
   "source": [
    "Foydanaluvchidan ismi, familiyasi, tug'ilgan yili, tug'ilgan joyi, email manzili va telefon raqamini qabul qilib, lug'at ko'rinishida qaytaruvchi funksiya yozing. Lug'atda foydalanuvchu yoshi ham bo'lsin. Ba'zi argumentlarni kiritishni ixtiyoriy qiling (masalan, tel.raqam, el.manzil)"
   ]
  },
  {
   "cell_type": "code",
   "execution_count": 31,
   "metadata": {},
   "outputs": [
    {
     "name": "stdout",
     "output_type": "stream",
     "text": [
      "[{'ism': 'Ixtiyor', 'familiya': 'Solih', 't_yil': 2002, 'yosh': 20, 't_joy': 'Nanay', 'email': 'kamronbeksolih@gmail.com', 'telraqam': None}]\n"
     ]
    }
   ],
   "source": [
    "\n",
    "#print(shaxsiy_malumotlar_yiguvchi(\"Kamronbek\",\"Solih\", 2002, \"Nanay\",\"kamronbeksolih@gmail.com\"))\n",
    "mijozlar = []\n",
    "while True:\n",
    "    mijozlar.append(shaxsiy_malumotlar_yiguvchi(\"Ixtiyor\",\"Solih\", 2002, \"Nanay\",\"kamronbeksolih@gmail.com\"))\n",
    "    yanami = input(\"Yana mijoz qo'shaszmi? y/n\")\n",
    "    if yanami == \"no\":\n",
    "        break\n",
    "\n",
    "print(mijozlar)\n"
   ]
  },
  {
   "cell_type": "markdown",
   "metadata": {},
   "source": [
    "Yuqoridagi funksiyani while yordamida bir necha bor chaqiring, va mijozlar degan ro'yxatni shakllantiring. Ro'yxatdagi mijozlar haqidagi ma'lumotni konsolga chiqaring."
   ]
  },
  {
   "cell_type": "code",
   "execution_count": null,
   "metadata": {},
   "outputs": [],
   "source": [
    "import datetime\n",
    "def shaxsiy_malumotlar_yiguvchi(ism, familiya, t_yil, t_joy, email = None, telraqam =None):\n",
    "    personal_info = {\n",
    "        'ism':ism,\n",
    "        'familiya':familiya,\n",
    "        \"t_yil\":t_yil,\n",
    "        \"yosh\": datetime.date.today().year - t_yil,\n",
    "        \"t_joy\":t_joy,\n",
    "        \"email\":email,\n",
    "        \"telraqam\":telraqam\n",
    "    }\n",
    "    return personal_info\n",
    "mijozlar = []\n",
    "while True:\n",
    "    ism = input(\"ism:\")\n",
    "    familiya: input(\"familiya\")\n",
    "    t_yil = input(\"tug'ilgan yili\")\n",
    "    yosh = input(\"yosh \")\n",
    "    t_joy = input(\"tug'ilgan joy\")\n",
    "\n",
    "    mijozlar.append(shaxsiy_malumotlar_yiguvchi(ism,familiya, t_yil, yosh,t_joy))\n",
    "    yanami = input(\"Yana mijoz qo'shaszmi? y/n\")\n",
    "    if yanami == \"no\":\n",
    "        break\n",
    "\n",
    "print(mijozlar)\n",
    "\n",
    "\n"
   ]
  },
  {
   "cell_type": "code",
   "execution_count": 49,
   "metadata": {},
   "outputs": [
    {
     "name": "stdout",
     "output_type": "stream",
     "text": [
      "32 14dan kichik\n",
      "[32, 14]\n"
     ]
    }
   ],
   "source": [
    "def maksimum(a,b,c):\n",
    "    saralangan = []\n",
    "    sonlar = [a,b,c]\n",
    " \n",
    "    i = 0\n",
    "    while i<(len(sonlar)-1):\n",
    "\n",
    "        if sonlar[i] <= sonlar[i+1]:\n",
    "            saralangan.append(sonlar[i])\n",
    "        else:\n",
    "            print(f\"{sonlar[i]} {sonlar[i+1]}dan kichik\")\n",
    "            saralangan.append(sonlar[i])\n",
    "        i+=1\n",
    "    return print(saralangan)\n",
    "\n",
    "maksimum(32,14,21)\n",
    "\n",
    "\n",
    "    \n",
    "     \n",
    "    "
   ]
  },
  {
   "cell_type": "markdown",
   "metadata": {},
   "source": [
    "Uchta son qabul qilib, ulardan eng kattasini qaytaruvchi funksiya yozing"
   ]
  },
  {
   "cell_type": "code",
   "execution_count": null,
   "metadata": {},
   "outputs": [],
   "source": [
    "def maxi(a,b,c):\n",
    "    sonlar = [ a, b, c]\n",
    "    saralangan = []\n",
    "    i = 0\n",
    "    while i < len(sonlar):\n",
    "        if sonlar[i] < sonlar[i+1]:\n",
    "\n",
    "        "
   ]
  },
  {
   "cell_type": "code",
   "execution_count": 53,
   "metadata": {},
   "outputs": [
    {
     "name": "stdout",
     "output_type": "stream",
     "text": [
      "24\n"
     ]
    }
   ],
   "source": [
    "def kattasi(a,b,c):\n",
    "    max = a\n",
    "    if b >= max :\n",
    "        max = b\n",
    "    elif c >= max:\n",
    "        max = c \n",
    "    return max\n",
    "print(kattasi(12,24,31))"
   ]
  },
  {
   "cell_type": "code",
   "execution_count": 6,
   "metadata": {},
   "outputs": [
    {
     "name": "stdout",
     "output_type": "stream",
     "text": [
      "[{'radius': 2.1, 'diametr': 1.05, 'yuzi': 13.854423602330987, 'perimetr': 13.194689145077131}, {'radius': 1.2, 'diametr': 0.6, 'yuzi': 4.523893421169302, 'perimetr': 7.5398223686155035}, {'radius': 3.1, 'diametr': 1.55, 'yuzi': 30.190705400997917, 'perimetr': 19.477874452256717}, {'radius': 4.3, 'diametr': 2.15, 'yuzi': 58.08804816487527, 'perimetr': 27.01769682087222}]\n"
     ]
    }
   ],
   "source": [
    "import math\n",
    "from unittest.mock import AsyncMock\n",
    "def aylana(radius):\n",
    "    malumot = {\n",
    "        \"radius\" : radius,\n",
    "        \"diametr\" : radius/2,\n",
    "        \"yuzi\" : math.pi*(radius**2),\n",
    "        \"perimetr\": 2*math.pi*radius\n",
    "\n",
    "    }\n",
    "    return malumot\n",
    "aylanalar = []\n",
    "while True:\n",
    "    radius = float(input(\"Radius\"))\n",
    "    aylanalar.append(aylana(radius))\n",
    "    yanami = input(\"Yanami? h/y\" )\n",
    "    if yanami != 'ha':\n",
    "        break\n",
    "print(aylanalar)\n"
   ]
  },
  {
   "cell_type": "code",
   "execution_count": 2,
   "metadata": {},
   "outputs": [
    {
     "name": "stdout",
     "output_type": "stream",
     "text": [
      "3.141592653589793\n"
     ]
    }
   ],
   "source": [
    "\n",
    "print(math.pi)"
   ]
  },
  {
   "cell_type": "code",
   "execution_count": 12,
   "metadata": {},
   "outputs": [
    {
     "name": "stdout",
     "output_type": "stream",
     "text": [
      "[2, 3, 4, 5, 6, 7, 8, 9, 10, 12, 14, 15, 16, 18, 20, 21, 22, 24, 25, 26, 27, 28, 30, 32, 33, 34, 35, 36, 38, 39, 40, 42, 44, 45, 46, 48, 49, 50, 51, 52, 54, 55, 56, 57, 58, 60, 62, 63, 64, 65, 66, 68, 69, 70, 72, 74, 75, 76, 77, 78, 80, 81, 82, 84, 85, 86, 87, 88, 90, 91, 92, 93, 94, 95, 96, 98, 99]\n"
     ]
    }
   ],
   "source": [
    "def oraliq_tub(avval,oxir):\n",
    "    tublar= []\n",
    "    for n in range(avval,oxir):\n",
    "        bulinadi = n%2 and n%3 and n%5 and n%7 \n",
    "        if not n%2  and n%3 and n%5 and n%7 :\n",
    "            tublar.append(n)\n",
    "\n",
    "\n",
    "        \n",
    "    return tublar\n",
    "\n",
    "print(oraliq_tub(2,100))\n",
    "\n",
    "\n"
   ]
  },
  {
   "cell_type": "code",
   "execution_count": 20,
   "metadata": {},
   "outputs": [
    {
     "name": "stdout",
     "output_type": "stream",
     "text": [
      "1 1\n",
      "2 2\n",
      "3 1\n",
      "4 1\n",
      "5 1\n",
      "6 1\n",
      "7 1\n",
      "8 2\n",
      "9 1\n",
      "10 1\n",
      "11 1\n",
      "12 2\n",
      "13 1\n",
      "14 2\n",
      "15 1\n",
      "16 1\n",
      "17 1\n",
      "18 3\n",
      "19 1\n",
      "20 2\n",
      "21 1\n",
      "22 1\n",
      "23 1\n",
      "24 4\n",
      "25 1\n",
      "26 2\n",
      "27 1\n",
      "28 1\n",
      "29 1\n",
      "30 2\n",
      "31 1\n",
      "32 2\n",
      "33 1\n",
      "34 1\n",
      "35 1\n",
      "36 1\n",
      "37 1\n",
      "38 2\n",
      "39 1\n",
      "40 1\n",
      "41 1\n",
      "42 2\n",
      "43 1\n",
      "44 2\n",
      "45 1\n",
      "46 1\n",
      "47 1\n",
      "48 3\n",
      "49 1\n",
      "50 2\n",
      "51 1\n",
      "52 1\n",
      "53 1\n",
      "54 4\n",
      "55 1\n",
      "56 2\n",
      "57 1\n",
      "58 1\n",
      "59 1\n",
      "60 4\n",
      "61 1\n",
      "62 2\n",
      "63 1\n",
      "64 1\n",
      "65 1\n",
      "66 1\n",
      "67 1\n",
      "68 2\n",
      "69 1\n",
      "70 1\n",
      "71 1\n",
      "72 2\n",
      "73 1\n",
      "74 2\n",
      "75 1\n",
      "76 1\n",
      "77 1\n",
      "78 3\n",
      "79 1\n",
      "80 2\n",
      "81 1\n",
      "82 1\n",
      "83 1\n",
      "84 4\n",
      "85 1\n",
      "86 2\n",
      "87 1\n",
      "88 1\n",
      "89 1\n",
      "90 6\n",
      "91 1\n",
      "92 2\n",
      "93 1\n",
      "94 1\n",
      "95 1\n",
      "96 1\n",
      "97 1\n",
      "98 2\n",
      "99 1\n",
      "[]\n"
     ]
    }
   ],
   "source": [
    "def oraliq_tub(avval, oxir):\n",
    "    tublar = []\n",
    "    while avval<oxir:\n",
    "        bulinadi  = avval%2 or avval%3 or avval%5 or avval%7\n",
    "        if bulinadi:\n",
    "            print(f\"{avval} {avval%2 or avval%3 or avval%5 or avval%7}\")\n",
    "        else:\n",
    "            tublar.append(avval)\n",
    "        avval+=1\n",
    "    return tublar\n",
    "print(oraliq_tub(1,100))\n",
    "        "
   ]
  },
  {
   "cell_type": "code",
   "execution_count": 30,
   "metadata": {},
   "outputs": [
    {
     "name": "stdout",
     "output_type": "stream",
     "text": [
      "[3]\n"
     ]
    }
   ],
   "source": [
    "def fibonachi(a):\n",
    "    sonlar = list(range(1,100))\n",
    "    fibon_sonlar = []\n",
    "    i = 0\n",
    "    while i < len(sonlar):\n",
    "        if sonlar[i+2] == (sonlar[i] + sonlar[i+1]):\n",
    "            fibon_sonlar.append(sonlar[i+2])\n",
    "        i+=1\n",
    "        if i == a:\n",
    "            break\n",
    "    return fibon_sonlar\n",
    "\n",
    "print(fibonachi(10))\n",
    "\n",
    "\n",
    "\n",
    "\n"
   ]
  },
  {
   "cell_type": "code",
   "execution_count": 2,
   "metadata": {},
   "outputs": [
    {
     "name": "stdout",
     "output_type": "stream",
     "text": [
      "['Kamronbek Solih', 'Ismoil Abdumajid', \"Dostn G'Ofur\"]\n"
     ]
    }
   ],
   "source": [
    "def bosh_harf(matn):\n",
    "    yangi_matn=[]\n",
    "    while matn:\n",
    "        soz = matn.pop()\n",
    "        yangi_matn.append(soz.title())\n",
    "    return yangi_matn\n",
    "\n",
    "wordList = ['dostn g\\'ofur','ismoil abdumajid','kamronbek solih']\n",
    "newList = bosh_harf(wordList[:])\n",
    "print(newList)\n"
   ]
  },
  {
   "cell_type": "markdown",
   "metadata": {},
   "source": [
    "Matnlardan iborat ro'yxat qabul qilib, ro'yxatdagi har bir matnning birinchi harfini katta harfga o'zgatiruvchi funksiya yozing."
   ]
  },
  {
   "cell_type": "code",
   "execution_count": 5,
   "metadata": {},
   "outputs": [
    {
     "name": "stdout",
     "output_type": "stream",
     "text": [
      "{'dostn gofur': 4, 'ismoil abdumajid': 5, 'kamronbek solih': 4}\n",
      "['dostn gofur', 'ismoil abdumajid', 'kamronbek solih']\n"
     ]
    }
   ],
   "source": [
    "def bahola(ismlar):\n",
    "    baholangan = {}\n",
    "    for i in range(len(ismlar)):\n",
    "        baho = int(input(f\"{ismlar[i]}ning bahosini kiriting: \\n \"))\n",
    "        \n",
    "        baholangan[ismlar[i]] = baho \n",
    "\n",
    "    return baholangan\n",
    "\n",
    "talabalar = ['dostn gofur','ismoil abdumajid','kamronbek solih']\n",
    "print(bahola(talabalar))\n",
    "print(talabalar)\n"
   ]
  },
  {
   "cell_type": "markdown",
   "metadata": {},
   "source": [
    "Darsimiz davomida yozgan bahola funksiyasini .pop() metodidan foydalanmasdan va asl ro'yxatga o'zgartirish kiritmasdan faqat lug'at qaytaradigan qilib yozing."
   ]
  },
  {
   "cell_type": "code",
   "execution_count": 7,
   "metadata": {},
   "outputs": [
    {
     "name": "stdout",
     "output_type": "stream",
     "text": [
      "120\n"
     ]
    }
   ],
   "source": [
    "def kopaytma(*sonlar):\n",
    "    a = 1\n",
    "    for n in sonlar:\n",
    "        a*= n\n",
    "    return a\n",
    "\n",
    "print(kopaytma(2,3,4,5))\n"
   ]
  },
  {
   "cell_type": "markdown",
   "metadata": {},
   "source": [
    "Istalgancha sonlarni qabul qilib, ularning ko'paytmasini qaytaruvchi funksiya yozing"
   ]
  },
  {
   "cell_type": "code",
   "execution_count": 9,
   "metadata": {},
   "outputs": [
    {
     "name": "stdout",
     "output_type": "stream",
     "text": [
      "{'oliygoh': 'TATU', 'fakultet': 'Iqtisod', 'ism': 'Husniddin', 'familiya': 'Zayniddin'}\n"
     ]
    }
   ],
   "source": [
    "def talabalar(ism, familiya, **malumotlar):\n",
    "    malumotlar['ism'] = ism\n",
    "    malumotlar['familiya'] = familiya\n",
    "\n",
    "    return malumotlar\n",
    "\n",
    "print(talabalar(\"Husniddin\",\"Zayniddin\", oliygoh = 'TATU', fakultet = 'Iqtisod'))\n"
   ]
  },
  {
   "cell_type": "markdown",
   "metadata": {},
   "source": [
    "Talabalar haqidagi ma'lumotlarini lug'at ko'rinishida qaytaruvchi funkisya yozing. Talabaning ismi va familiyasi majburiy argument, qolgan ma'lumotlar esa ixtiyoriy ko'rinishda istalgancha berilishi mumkin bo'lsin."
   ]
  }
 ],
 "metadata": {
  "kernelspec": {
   "display_name": "Python 3.10.7 64-bit",
   "language": "python",
   "name": "python3"
  },
  "language_info": {
   "codemirror_mode": {
    "name": "ipython",
    "version": 3
   },
   "file_extension": ".py",
   "mimetype": "text/x-python",
   "name": "python",
   "nbconvert_exporter": "python",
   "pygments_lexer": "ipython3",
   "version": "3.10.7"
  },
  "orig_nbformat": 4,
  "vscode": {
   "interpreter": {
    "hash": "fb4569285eef3a3450cb62085a5b1e0da4bce0af555edc33dcf29baf3acc1368"
   }
  }
 },
 "nbformat": 4,
 "nbformat_minor": 2
}
