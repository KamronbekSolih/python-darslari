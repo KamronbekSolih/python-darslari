{
 "cells": [
  {
   "cell_type": "code",
   "execution_count": null,
   "metadata": {},
   "outputs": [],
   "source": [
    "dadam = {\n",
    "    'ism-familiya':'Komiljon Abduvohidov',\n",
    "    't_joyi':'Namangan',\n",
    "    't_yili':1973,\n",
    "    'kasbi':'yurist'\n",
    "\n",
    "    }\n",
    "\n",
    "print(f'Dadam {dadam[\"ism-familiya\"]} \\\n",
    "     {dadam[\"t_yili\"]} yilda {dadam[\"t_joyi\"]} da tug\\'ilanlar.')"
   ]
  },
  {
   "cell_type": "code",
   "execution_count": null,
   "metadata": {},
   "outputs": [],
   "source": [
    "oilaviy_menyu = {\n",
    "    'Kamronbek': 'mosh',\n",
    "    'Rustambek': 'kalbaska',\n",
    "    'Shodiya':'tvorokli bulochka',\n",
    "    'Umidbek akam': 'isitilgan ovqatalar',\n",
    "    'Oyam':''\n",
    "\n",
    "}\n",
    "print(f\" {oilaviy_menyu['mosh']}\")"
   ]
  },
  {
   "cell_type": "code",
   "execution_count": null,
   "metadata": {},
   "outputs": [],
   "source": [
    "atamalar = {\n",
    "    '.get()':'Lugatdan key orqali valueni oladi, yoki key yuqligi haqida malumot chiqaradi',\n",
    "    'TUPLES':\"O'ZGARMAS RO'YXAT\",\n",
    "    'if_else': \"bir qatorga yozsa ham bo'ladi\",\n",
    "    'sort()': \"metodi ro'yxatni tartiblaydi (bunda asl ro'yxat ham o'zgaradi)\"\n",
    "                \n",
    "}\n",
    "\n",
    "print(atamalar)"
   ]
  },
  {
   "cell_type": "markdown",
   "metadata": {},
   "source": [
    "suzlar = {\n",
    "    'mother': 'ona',\n",
    "    'father': 'ota',\n",
    "    'proger': 'dasturchi',\n",
    "    'consequently' : 'natijada, oqibatda'\n",
    "}\n",
    "search = input('search...')\n",
    "\n",
    "print(suz.get(search, 'word not found'))"
   ]
  },
  {
   "cell_type": "code",
   "execution_count": 2,
   "metadata": {},
   "outputs": [
    {
     "name": "stdout",
     "output_type": "stream",
     "text": [
      "word not found\n"
     ]
    }
   ],
   "source": [
    "suzlar = {\n",
    "    'mother': 'ona',\n",
    "    'father': 'ota',\n",
    "    'proger': 'dasturchi',\n",
    "    'consequently' : 'natijada, oqibatda'\n",
    "}\n",
    "search = input('search...')\n",
    "\n",
    "print(suzlar.get(search, 'word not found'))"
   ]
  },
  {
   "cell_type": "code",
   "execution_count": 4,
   "metadata": {},
   "outputs": [
    {
     "name": "stdout",
     "output_type": "stream",
     "text": [
      "ota\n"
     ]
    }
   ],
   "source": [
    "suzlar = {\n",
    "    'mother': 'ona',\n",
    "    'father': 'ota',\n",
    "    'proger': 'dasturchi',\n",
    "    'consequently' : 'natijada, oqibatda'\n",
    "}\n",
    "search = input('search...')\n",
    "\n",
    "if search in suzlar:\n",
    "    print(suzlar[search])\n",
    "else: print('word not found')"
   ]
  },
  {
   "cell_type": "code",
   "execution_count": 3,
   "metadata": {},
   "outputs": [
    {
     "name": "stdout",
     "output_type": "stream",
     "text": [
      "dict_items([('Kamronbek', 'mosh'), ('Rustambek', 'kalbaska'), ('Shodiya', 'tvorokli bulochka'), ('Umidbek akam', 'isitilgan ovqatalar'), ('Oyam', '')])\n",
      "Key: Kamronbek \n",
      "Value: mosh \n",
      "Key: Rustambek \n",
      "Value: kalbaska \n",
      "Key: Shodiya \n",
      "Value: tvorokli bulochka \n",
      "Key: Umidbek akam \n",
      "Value: isitilgan ovqatalar \n",
      "Key: Oyam \n",
      "Value:  \n"
     ]
    }
   ],
   "source": [
    "oilaviy_menyu = {\n",
    "    'Kamronbek': 'mosh',\n",
    "    'Rustambek': 'kalbaska',\n",
    "    'Shodiya':'tvorokli bulochka',\n",
    "    'Umidbek akam': 'isitilgan ovqatalar',\n",
    "    'Oyam':''\n",
    "\n",
    "}\n",
    "print(oilaviy_menyu.items())\n",
    "\n",
    "for key, value in oilaviy_menyu.items():\n",
    "    print(f\"Key: {key} \\nValue: {value} \")"
   ]
  },
  {
   "cell_type": "code",
   "execution_count": 6,
   "metadata": {},
   "outputs": [
    {
     "name": "stdout",
     "output_type": "stream",
     "text": [
      "Kamronbek has A 32\n",
      "Elbek has iphone\n",
      "Husniddin has S 10\n"
     ]
    }
   ],
   "source": [
    "ism_telefon = {\n",
    "    'kamronbek':'A 32',\n",
    "    'elbek':'iphone',\n",
    "    'husniddin':'S 10'\n",
    "}\n",
    "for k,v in ism_telefon.items():\n",
    "    print(f'{k.title()} has {v}')\n"
   ]
  },
  {
   "cell_type": "code",
   "execution_count": 3,
   "metadata": {},
   "outputs": [
    {
     "name": "stdout",
     "output_type": "stream",
     "text": [
      " Word: .get(), \n",
      "Definition: getting element from dic, message othervise\n",
      " Word: set, \n",
      "Definition: makeing set from dics, tuples, lists\n",
      " Word: eol, \n",
      "Definition: end of line\n",
      " Word: eof, \n",
      "Definition: end of function\n",
      " Word: .insert(), \n",
      "Definition: adding element to a list with specified position\n"
     ]
    }
   ],
   "source": [
    "lugat = {\n",
    "    '.get()':'getting element from dic, message othervise',\n",
    "    'set()':'makeing set from dics, tuples, lists',\n",
    "    'eol':'end of line',\n",
    "    'eof':'end of function',\n",
    "    '.insert()':'adding element to a list with specified position'\n",
    "}\n",
    "\n",
    "for key, value in lugat.items():\n",
    "    print(f\" Word: {key}, \\nDefinition: {value}\")"
   ]
  },
  {
   "cell_type": "code",
   "execution_count": 5,
   "metadata": {},
   "outputs": [
    {
     "name": "stdout",
     "output_type": "stream",
     "text": [
      "argentina ning pytaxti buenos-ayres\n",
      "germaniya ning pytaxti berlin\n",
      "malaziya ning pytaxti kuala-lumpur\n",
      "rossiya ning pytaxti moskva\n",
      "xitoy ning pytaxti pekin\n"
     ]
    }
   ],
   "source": [
    "dav_poy = {\n",
    "    'malaziya':'kuala-lumpur',\n",
    "    'xitoy':'pekin',\n",
    "    'rossiya':'moskva',\n",
    "    'germaniya':'berlin',\n",
    "    'argentina':'buenos-ayres'\n",
    "}\n",
    "\n",
    "for dav, poy in sorted(dav_poy.items()):\n",
    "    print(f\"{dav} ning pytaxti {poy}\")"
   ]
  },
  {
   "cell_type": "code",
   "execution_count": 7,
   "metadata": {},
   "outputs": [
    {
     "name": "stdout",
     "output_type": "stream",
     "text": [
      "germaniya ning poytaxti berlin\n"
     ]
    }
   ],
   "source": [
    "dav_poy = {\n",
    "    'malaziya':'kuala-lumpur',\n",
    "    'xitoy':'pekin',\n",
    "    'rossiya':'moskva',\n",
    "    'germaniya':'berlin',\n",
    "    'argentina':'buenos-ayres'\n",
    "}\n",
    "davlat = input('Poytaxt')\n",
    "if davlat in dav_poy:\n",
    "    print(f\"{davlat} ning poytaxti {dav_poy[davlat]}\")\n",
    "else: print('Bizda bunday davlat yuq')"
   ]
  },
  {
   "cell_type": "code",
   "execution_count": 4,
   "metadata": {},
   "outputs": [],
   "source": [
    "menyu = {\n",
    "    'osh':35000,\n",
    "    'halim':19_000,\n",
    "    'norin':16_000,\n",
    "    'shashlik':8_500,\n",
    "    \"go'shtlik somsa\":4500,\n",
    "    \"sho'rva\":15_000,\n",
    "    \"chuchvara\":17_000,\n",
    "    \"mastava\":17_000,\n",
    "    \"non va choy\":6_000\n",
    "}\n",
    "\n",
    "mablag = int( input(\"Buyurtmangizni narxini ko'rsating: \")) \n",
    "\n",
    "\n",
    "if mablag:\n",
    "        for taom, narx, in menyu.items():\n",
    "            if mablag >= narx:\n",
    "                print(f\"Siz {taom}ni xarid qila olasiz\")\n",
    "else: print(\"Tekinga taom faqat Juma kunlari va Ramazon oyida tarqatiladi\")\n",
    "        "
   ]
  },
  {
   "cell_type": "code",
   "execution_count": 7,
   "metadata": {},
   "outputs": [
    {
     "name": "stdout",
     "output_type": "stream",
     "text": [
      "Bizda olma yo'q, uzurasiz\n",
      "Sizning buyurtmangiz osh ning narxi 35000 so'm\n",
      "Sizning buyurtmangiz halim ning narxi 19000 so'm\n"
     ]
    }
   ],
   "source": [
    "menyu = {\n",
    "    'osh':35000,\n",
    "    'halim':19_000,\n",
    "    'norin':16_000,\n",
    "    'shashlik':8_500,\n",
    "    \"go'shtlik somsa\":4500,\n",
    "    \"sho'rva\":15_000,\n",
    "    \"chuchvara\":17_000,\n",
    "    \"mastava\":17_000,\n",
    "    \"non va choy\":6_000\n",
    "}\n",
    "buyurtma = []\n",
    "for i in range(3):\n",
    "    taom = input('{i}chi taomni kiriting ')\n",
    "    buyurtma.append(taom)\n",
    "\n",
    "\n",
    "if taom:\n",
    "    for food in buyurtma:\n",
    "        if food in menyu:\n",
    "            print(f\"Sizning buyurtmangiz {food} ning narxi {menyu[food]} so'm\")\n",
    "        else: \n",
    "            \n",
    "            print(f\"Bizda {food} yo'q, uzurasiz\")\n",
    "\n"
   ]
  },
  {
   "cell_type": "code",
   "execution_count": 4,
   "metadata": {},
   "outputs": [
    {
     "name": "stdout",
     "output_type": "stream",
     "text": [
      " Stive Jobs was born on February 24, 1955. Has Apple, NeXT, Pixar\n",
      " Elon Musk was born on June 28, 1971. Has 'Tesla Motors', 'SpaceX', 'Neuralink'\n",
      " Zakir Naik was born on 18 October 1965. Has Islamic Research Foundation and the Peace TV Network\n"
     ]
    }
   ],
   "source": [
    "shaxs1 = {\n",
    "    'name':'Stive Jobs',\n",
    "    'birth-date':'February 24, 1955',\n",
    "    'companies':'Apple, NeXT, Pixar',\n",
    "\n",
    "}\n",
    "\n",
    "shaxs2 = {\n",
    "    'name':'Elon Musk',\n",
    "    'birth-date':'June 28, 1971',\n",
    "    'companies':\"'Tesla Motors', 'SpaceX', 'Neuralink'\",\n",
    "    \n",
    "}\n",
    "shaxs3 = {\n",
    "    'name':'Zakir Naik',\n",
    "    'birth-date':'18 October 1965',\n",
    "    'companies':\"Islamic Research Foundation and the Peace TV Network\",\n",
    "    \n",
    "}\n",
    "\n",
    "shaxslar = [shaxs1, shaxs2, shaxs3]\n",
    "for person in shaxslar:\n",
    "    print(f\" {person['name']} was born on {person['birth-date']}. Has {person['companies']}\")"
   ]
  },
  {
   "cell_type": "code",
   "execution_count": 5,
   "metadata": {},
   "outputs": [
    {
     "name": "stdout",
     "output_type": "stream",
     "text": [
      " Stive Jobs owns Apple, NeXT, Pixar\n",
      " Elon Musk owns 'Tesla Motors', 'SpaceX', 'Neuralink'\n",
      " Zakir Naik owns Islamic Research Foundation and the Peace TV Network\n"
     ]
    }
   ],
   "source": [
    "shaxs1 = {\n",
    "    'name':'Stive Jobs',\n",
    "    'birth-date':'February 24, 1955',\n",
    "    'companies':'Apple, NeXT, Pixar',\n",
    "    \n",
    "\n",
    "}\n",
    "\n",
    "shaxs2 = {\n",
    "    'name':'Elon Musk',\n",
    "    'birth-date':'June 28, 1971',\n",
    "    'companies':\"'Tesla Motors', 'SpaceX', 'Neuralink'\",\n",
    "    \n",
    "}\n",
    "shaxs3 = {\n",
    "    'name':'Zakir Naik',\n",
    "    'birth-date':'18 October 1965',\n",
    "    'companies':\"Islamic Research Foundation and the Peace TV Network\",\n",
    "    \n",
    "}\n",
    "\n",
    "shaxslar = [shaxs1, shaxs2, shaxs3]\n",
    "for person in shaxslar:\n",
    "    print(f\" {person['name']} owns {person['companies']}\")"
   ]
  },
  {
   "cell_type": "markdown",
   "metadata": {},
   "source": [
    "Yuqoridagi lug'atlarga har bir shaxsning mashxur asarlari ro'yxatini ham qo'shing. For tsikli yordamida muallifning ismi va uning asarlarini konsolga chiqaring."
   ]
  },
  {
   "cell_type": "code",
   "execution_count": 14,
   "metadata": {},
   "outputs": [
    {
     "name": "stdout",
     "output_type": "stream",
     "text": [
      "\n",
      "Doston ning sevimli kinolari\n",
      " Terminator\n",
      " Sevginator\n",
      "  'O'zimdan o'zimgacha'\n",
      "\n",
      "Ismoil ning sevimli kinolari\n",
      " Chuqur\n",
      " Quduq\n",
      " Tepalik\n",
      "\n",
      "Husniddin ning sevimli kinolari\n",
      " Abdullajon\n",
      " Vatanparvar\n",
      " Titanik\n"
     ]
    }
   ],
   "source": [
    "sevimli_kinolar = {\n",
    "    'Doston':['Terminator','Sevginator',\" 'O'zimdan o'zimgacha'\"],\n",
    "    'Ismoil':[\"Chuqur\", \"Quduq\", \"Tepalik\"],\n",
    "    'Husniddin':[\"Abdullajon\", \"Vatanparvar\", \"Titanik\"]\n",
    "\n",
    "}\n",
    "\n",
    "for name, kinolar in sevimli_kinolar.items():\n",
    "    print(f\"\\n{name} ning sevimli kinolari\")\n",
    "    for kino in kinolar:\n",
    "        print(f\" {kino}\")\n",
    "        \n"
   ]
  },
  {
   "cell_type": "markdown",
   "metadata": {},
   "source": [
    "Oila a'zolaringiz (do'stlaringiz) dan 3 ta sevimli kino-seriali haqida so'rang. Do'stingiz ismi kalit, uning sevimli kinolarini esa ro'yxat ko'rinishida lug'artga saqlang. Natijani konsolga chiqaring."
   ]
  },
  {
   "cell_type": "code",
   "execution_count": 19,
   "metadata": {},
   "outputs": [
    {
     "name": "stdout",
     "output_type": "stream",
     "text": [
      "Germaniya\n",
      "poytaxt : Berlin\n",
      "aholisi : 83 mln\n",
      "hududi : 357,588 km²\n",
      "yaim : 45,723.64 USD\n",
      "O'zbekiston\n",
      "poytaxt : Toshkent\n",
      "aholisi : 34 mln\n",
      "hududi : 447,400 km²\n",
      "yaim : 1,685.76 USD \n",
      "Koreya Respublikasi\n",
      "poytaxt : Seul\n",
      "aholisi : 51.78 million\n",
      "hududi : 447,400 km²\n",
      "yaim : 31,489.12 USD \n"
     ]
    }
   ],
   "source": [
    "davlatlar = {\n",
    "    'Germaniya':{\n",
    "        'poytaxt':'Berlin',\n",
    "        'aholisi':'83 mln',\n",
    "        'hududi':'357,588 km²',\n",
    "        'yaim':'45,723.64 USD'\n",
    "    },\n",
    "    \"O'zbekiston\":{\n",
    "        'poytaxt':'Toshkent',\n",
    "        'aholisi':'34 mln',\n",
    "        'hududi':'447,400 km²',\n",
    "        'yaim':'1,685.76 USD '\n",
    "    },\n",
    "     \"Koreya Respublikasi\":{\n",
    "        'poytaxt':'Seul',\n",
    "        'aholisi':'51.78 million',\n",
    "        'hududi':'447,400 km²',\n",
    "        'yaim':'31,489.12 USD '\n",
    "    },\n",
    "\n",
    "}\n",
    "for davlat, malumotlar in davlatlar.items():\n",
    "    print(f\"{davlat}\")\n",
    "    for malumot, info in malumotlar.items():\n",
    "        print(f\"{malumot} : {info}\")"
   ]
  },
  {
   "cell_type": "markdown",
   "metadata": {},
   "source": [
    "Davlatlar degan lug'at yarating, lug'at ichida bir nechta davlatlar haqida ma'lumotlarni lug'at ko'rinishida saqlang. Har bir davlat haqida ma'lumotni konsolga chiqaring."
   ]
  },
  {
   "cell_type": "code",
   "execution_count": 29,
   "metadata": {},
   "outputs": [
    {
     "name": "stdout",
     "output_type": "stream",
     "text": [
      "Koreya Respublikasi\n",
      "poytaxt: Seul\n",
      "aholisi: 51.78 million\n",
      "hududi: 447,400 km²\n",
      "yaim: 31,489.12 USD \n"
     ]
    }
   ],
   "source": [
    "kiritma = input('Davlat: ')\n",
    "davlatlar = {\n",
    "    'Germaniya':{\n",
    "        'poytaxt':'Berlin',\n",
    "        'aholisi':'83 mln',\n",
    "        'hududi':'357,588 km²',\n",
    "        'yaim':'45,723.64 USD'\n",
    "    },\n",
    "    \"O'zbekiston\":{\n",
    "        'poytaxt':'Toshkent',\n",
    "        'aholisi':'34 mln',\n",
    "        'hududi':'447,400 km²',\n",
    "        'yaim':'1,685.76 USD '\n",
    "    },\n",
    "     \"Koreya Respublikasi\":{\n",
    "        'poytaxt':'Seul',\n",
    "        'aholisi':'51.78 million',\n",
    "        'hududi':'447,400 km²',\n",
    "        'yaim':'31,489.12 USD '\n",
    "    },\n",
    "\n",
    "}\n",
    "if kiritma:\n",
    "    if kiritma in davlatlar:\n",
    "        print(kiritma)\n",
    "        for malumot, info in davlatlar[kiritma].items():\n",
    "            print(f\"{malumot}: {info}\")\n",
    "\n",
    "\n",
    "else: print(\"Hech narsa kiritmadingiz\")"
   ]
  },
  {
   "cell_type": "markdown",
   "metadata": {},
   "source": [
    "Yuqoridagi dasturga o'zgartirish kiriting: konsolga barcha davlatlarni emas, foydalanuvchi so'ragan davlat haqida ma'lumot bering. Agar davlat sizning lug'atingizda mavjud bo'lmasa, \"Bizda bu davlat haqida ma'lumot yo'q\" degan xabarni chiqaring."
   ]
  },
  {
   "cell_type": "code",
   "execution_count": 23,
   "metadata": {},
   "outputs": [
    {
     "name": "stdout",
     "output_type": "stream",
     "text": [
      "Germaniya\n",
      "O'zbekiston\n",
      "Koreya Respublikasi\n"
     ]
    }
   ],
   "source": [
    "davlatlar = {\n",
    "    'Germaniya':{\n",
    "        'poytaxt':'Berlin',\n",
    "        'aholisi':'83 mln',\n",
    "        'hududi':'357,588 km²',\n",
    "        'yaim':'45,723.64 USD'\n",
    "    },\n",
    "    \"O'zbekiston\":{\n",
    "        'poytaxt':'Toshkent',\n",
    "        'aholisi':'34 mln',\n",
    "        'hududi':'447,400 km²',\n",
    "        'yaim':'1,685.76 USD '\n",
    "    },\n",
    "     \"Koreya Respublikasi\":{\n",
    "        'poytaxt':'Seul',\n",
    "        'aholisi':'51.78 million',\n",
    "        'hududi':'447,400 km²',\n",
    "        'yaim':'31,489.12 USD '\n",
    "    },\n",
    "\n",
    "}\n",
    "for davlat in davlatlar:\n",
    "    print(davlat)"
   ]
  }
 ],
 "metadata": {
  "kernelspec": {
   "display_name": "Python 3.10.7 64-bit",
   "language": "python",
   "name": "python3"
  },
  "language_info": {
   "codemirror_mode": {
    "name": "ipython",
    "version": 3
   },
   "file_extension": ".py",
   "mimetype": "text/x-python",
   "name": "python",
   "nbconvert_exporter": "python",
   "pygments_lexer": "ipython3",
   "version": "3.10.7"
  },
  "orig_nbformat": 4,
  "vscode": {
   "interpreter": {
    "hash": "fb4569285eef3a3450cb62085a5b1e0da4bce0af555edc33dcf29baf3acc1368"
   }
  }
 },
 "nbformat": 4,
 "nbformat_minor": 2
}
