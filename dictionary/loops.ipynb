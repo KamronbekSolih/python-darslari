{
 "cells": [
  {
   "cell_type": "code",
   "execution_count": 4,
   "metadata": {},
   "outputs": [
    {
     "name": "stdout",
     "output_type": "stream",
     "text": [
      "Dastur tugadi! Siz ['a', 'b', 's', 'd', 'stop4'] kitoblarni yaxshi ko'rasiz. \n"
     ]
    }
   ],
   "source": [
    "ism = input(\"Ismingiz nima?\")\n",
    "javon = []\n",
    "while True:\n",
    "    kitob = input(f\"{ism} qaysi kitoblarni yaxshi ko'rasiz? \\n\")\n",
    "    javon.append(kitob)\n",
    "    if kitob == 'stop':\n",
    "        javon.remove('stop')\n",
    "        break\n",
    "print(f\"Dastur tugadi! Siz {javon} kitoblarni yaxshi ko'rasiz. \")\n"
   ]
  },
  {
   "cell_type": "code",
   "execution_count": 12,
   "metadata": {},
   "outputs": [
    {
     "name": "stdout",
     "output_type": "stream",
     "text": [
      "Siz uchun chipta narxi 10000\n",
      "tugadi\n"
     ]
    }
   ],
   "source": [
    "while True:\n",
    "    yosh = input(\"Yosh:\")\n",
    "\n",
    "    if yosh == 'quit' or yosh == 'exit':\n",
    "        print(\"tugadi\")\n",
    "        break\n",
    "    else:\n",
    "        yosh = int(yosh)\n",
    "        if yosh < 7:\n",
    "            narx = 2000\n",
    "        elif yosh < 18:\n",
    "            narx = 3000\n",
    "        elif yosh < 65:\n",
    "            narx = 10000\n",
    "           \n",
    "        else:\n",
    "            narx = 'bepul'\n",
    "    print(f\"Siz uchun chipta narxi {narx}\")\n"
   ]
  },
  {
   "cell_type": "markdown",
   "metadata": {},
   "source": [
    "Muzeyga chipta narhi foydalanuvchining yoshiga bog'liq: 7 dan yoshlarga - 2000 so'm, 7-18 gacha 3000 so'm, 18-65 gacha 10000 so'm, 65 dan kattalarga bepul. Shunday while tsikl yozingki, dastur foydalanuvchi yoshini so'rasin va chipta narhini chiqarsin. Foydalanuvchi exit yoki quit deb yozganda dastur to'xtasin (ikkita shartni ham tekshiring).\n",
    "Yuqoridagi dasturni turli usullarda yozib ko'ring (break, ishora, yoki shart tekshirish)"
   ]
  },
  {
   "cell_type": "code",
   "execution_count": 15,
   "metadata": {},
   "outputs": [
    {
     "name": "stdout",
     "output_type": "stream",
     "text": [
      "9 ning ildizi 3.0 ga teng\n"
     ]
    }
   ],
   "source": [
    "savol =\"Kiritilgan sonning ildizini qaytaruvchi dastur.\\n\"\n",
    "savol += \"Musbat son kiriting \"\n",
    "savol += \"(dasturni to'xtatish uchun 'exit' deb yozing): \"\n",
    "\n",
    "while True:\n",
    "    qiymat = input(savol)\n",
    "    if qiymat=='exit':\n",
    "        break\n",
    "    elif float(qiymat)<0:\n",
    "        continue\n",
    "    \n",
    "    else:\n",
    "        ildiz = float(qiymat)**(0.5)\n",
    "        print(f\"{qiymat} ning ildizi {ildiz} ga teng\")"
   ]
  },
  {
   "cell_type": "code",
   "execution_count": 18,
   "metadata": {},
   "outputs": [
    {
     "name": "stdout",
     "output_type": "stream",
     "text": [
      "Buyrtma qabul qilindi!\n",
      "Buyrtma qabul qilindi!\n",
      "Buyrtma qabul qilindi!\n",
      "Sizning buyurtmalaringiz:\n",
      "osh\n",
      "choy\n",
      "Non\n"
     ]
    }
   ],
   "source": [
    "savol = 'Buyurtmangizni kiriting'\n",
    "ishora = True\n",
    "buyurtmalar = []\n",
    "n = 1 \n",
    "while ishora:\n",
    "    buyurtma = input(f\"{n}-{savol}\")\n",
    "    buyurtmalar.append(buyurtma)\n",
    "    print(\"Buyrtma qabul qilindi!\")\n",
    "    takror = input(\"Yana nimadir hohlaysizmi? Ha/Yo'q\")\n",
    "    n += 1\n",
    "\n",
    "    if takror != \"Ha\":\n",
    "       \n",
    "        print(\"Sizning buyurtmalaringiz:\")\n",
    "        for buyurtma in buyurtmalar:\n",
    "            print(buyurtma)\n",
    "        ishora = False\n",
    "\n",
    "\n",
    "\n",
    "\n",
    "    \n",
    "    \n",
    "    \n",
    "    "
   ]
  },
  {
   "cell_type": "markdown",
   "metadata": {},
   "source": [
    "Foydalanuvchidan buyurtma qabul qiluvchi dastur yozing. Mahsulotlar nomini birma-bir qabul qilib, yangi ro'yxatga joylang."
   ]
  },
  {
   "cell_type": "code",
   "execution_count": 20,
   "metadata": {},
   "outputs": [
    {
     "name": "stdout",
     "output_type": "stream",
     "text": [
      "Siznig savatingizda quyidagi mahsulotlar bor:\n",
      "olma : 15000\n",
      "xurmo : 21000\n",
      "sabzi : 7000\n"
     ]
    }
   ],
   "source": [
    "savat = {}\n",
    "ishora = True\n",
    "\n",
    "while ishora:\n",
    "    mahsulot = input(\"Mahsulot:\")\n",
    "    narx = int(input(\"Narx\"))\n",
    "    savat[mahsulot] = narx\n",
    "    takror = input(\"Yana mahsulot qo'shasizmi? h/y\")\n",
    "    if takror != 'h':\n",
    "        print(\"Siznig savatingizda quyidagi mahsulotlar bor:\")\n",
    "        for m, n in savat.items():\n",
    "            print(f\"{m} : {n}\")\n",
    "        ishora = False\n",
    "    "
   ]
  },
  {
   "cell_type": "markdown",
   "metadata": {},
   "source": [
    "e-bozor uchun mahsulotlar va ularning narhlari lug'atini shakllantiruvchi dastur yozing. Foydalanuvchidan lug'atga bir nechta elementlar (mahsulot va uning narhi) kiritishni so'rang."
   ]
  },
  {
   "cell_type": "code",
   "execution_count": 23,
   "metadata": {},
   "outputs": [
    {
     "name": "stdout",
     "output_type": "stream",
     "text": [
      " olmaning narxi 20000\n",
      " anorning narxi 12000\n",
      "banan bizda yo'q\n"
     ]
    }
   ],
   "source": [
    "buyurtmalar = ['olma','anor','banan']\n",
    "rasta = {\n",
    "    'olma':'20000',\n",
    "    'uzum':'17000',\n",
    "    'anor':'12000',\n",
    "    'kivi':'32000'\n",
    "}\n",
    "for buyurtma in buyurtmalar:\n",
    "    if buyurtma in rasta:\n",
    "        print(f\" {buyurtma}ning narxi {rasta[buyurtma]}\")\n",
    "    else: print(f\"{buyurtma} bizda yo'q\")"
   ]
  },
  {
   "cell_type": "markdown",
   "metadata": {},
   "source": [
    "Yuqoridagi ikki dasturni jamlaymiz. Foydalanuvchi buyurtmasi ro'yxatidagi har bir mahsulotni e-bozordagi mahsulotlar bilan solishitiring (tayyor ro'yxat ishlatishingiz mumkin). Agar mahsuot e-bozorda mavjud bo'lsa mahuslot narhini chiqaring, aks holda \"Bizda bu mahsulot yo'q\" degan xabarni kor'sating."
   ]
  }
 ],
 "metadata": {
  "kernelspec": {
   "display_name": "Python 3.10.7 64-bit",
   "language": "python",
   "name": "python3"
  },
  "language_info": {
   "codemirror_mode": {
    "name": "ipython",
    "version": 3
   },
   "file_extension": ".py",
   "mimetype": "text/x-python",
   "name": "python",
   "nbconvert_exporter": "python",
   "pygments_lexer": "ipython3",
   "version": "3.10.7"
  },
  "orig_nbformat": 4,
  "vscode": {
   "interpreter": {
    "hash": "fb4569285eef3a3450cb62085a5b1e0da4bce0af555edc33dcf29baf3acc1368"
   }
  }
 },
 "nbformat": 4,
 "nbformat_minor": 2
}
