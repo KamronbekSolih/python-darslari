{
 "cells": [
  {
   "cell_type": "code",
   "execution_count": 13,
   "metadata": {},
   "outputs": [
    {
     "name": "stdout",
     "output_type": "stream",
     "text": [
      "['andijon', 'asaka', 'buxoro', 'elobod']\n",
      "['andijon', 'asaka', 'buxoro', 'elobod']\n",
      "['andijon', 'asaka', 'buxoro', 'elobod']\n"
     ]
    }
   ],
   "source": [
    "cities = ['asaka','Buxoro','Elobod','andijon']\n",
    "citiesLower = []\n",
    "for i in cities:\n",
    "    citiesLower.append(i.lower())\n",
    "citiesLower.sort()\n",
    "print(citiesLower)\n",
    "# print(citiesLower[1:])\n",
    "shaharlar = citiesLower[:]\n",
    "print(shaharlar)\n",
    "shaharlar.remove('andijon')\n",
    "print(citiesLower)\n"
   ]
  },
  {
   "cell_type": "code",
   "execution_count": 20,
   "metadata": {},
   "outputs": [
    {
     "name": "stdout",
     "output_type": "stream",
     "text": [
      "['Jordan', 'Finland', 'England', 'Denmark', 'Chroatia', 'Brunei', 'Australia']\n"
     ]
    }
   ],
   "source": [
    "countries = ['Finland','Australia','Brunei', 'Denmark','England','Chroatia','Jordan']\n",
    "# countries.reverse()\n",
    "print(sorted(countries, reverse = True))"
   ]
  },
  {
   "cell_type": "code",
   "execution_count": 30,
   "metadata": {},
   "outputs": [
    {
     "name": "stdout",
     "output_type": "stream",
     "text": [
      "1078\n"
     ]
    }
   ],
   "source": [
    "evenNums = list(range(120,1200,2))\n",
    "# print(evenNums[(len(evenNums)-20):])\n",
    "# print(evenNums[len(evenNums)//2:len(evenNums)//2+20])\n",
    "print(max(evenNums) - min(evenNums))"
   ]
  },
  {
   "cell_type": "code",
   "execution_count": 34,
   "metadata": {},
   "outputs": [
    {
     "name": "stdout",
     "output_type": "stream",
     "text": [
      "['manti', 'xonim', 'palov', 'qozonkabob', 'shiringuruch'] \n",
      " ['palov', 'mastava', 'shiringuruch', \"Bo'tqa\"]\n"
     ]
    },
    {
     "ename": "TypeError",
     "evalue": "'tuple' object does not support item assignment",
     "output_type": "error",
     "traceback": [
      "\u001b[1;31m---------------------------------------------------------------------------\u001b[0m",
      "\u001b[1;31mTypeError\u001b[0m                                 Traceback (most recent call last)",
      "Cell \u001b[1;32mIn [34], line 11\u001b[0m\n\u001b[0;32m      8\u001b[0m \u001b[38;5;28mprint\u001b[39m(taomlar, \u001b[38;5;124m'\u001b[39m\u001b[38;5;130;01m\\n\u001b[39;00m\u001b[38;5;124m'\u001b[39m, nonushta)\n\u001b[0;32m     10\u001b[0m nonushta \u001b[38;5;241m=\u001b[39m \u001b[38;5;28mtuple\u001b[39m(nonushta)\n\u001b[1;32m---> 11\u001b[0m \u001b[43mnonushta\u001b[49m\u001b[43m[\u001b[49m\u001b[38;5;241;43m0\u001b[39;49m\u001b[43m]\u001b[49m \u001b[38;5;241m=\u001b[39m \u001b[38;5;124m'\u001b[39m\u001b[38;5;124mqaymoq va non\u001b[39m\u001b[38;5;124m'\u001b[39m\n",
      "\u001b[1;31mTypeError\u001b[0m: 'tuple' object does not support item assignment"
     ]
    }
   ],
   "source": [
    "taomlar = ['manti','xonim', 'palov','qozonkabob','shiringuruch']\n",
    "nonushta = taomlar[:]\n",
    "nonushta.remove('manti')\n",
    "nonushta.remove('xonim')\n",
    "nonushta.remove('qozonkabob')\n",
    "nonushta.append('Bo\\'tqa')\n",
    "nonushta.insert(1,'mastava')\n",
    "print(taomlar, '\\n', nonushta)\n",
    "\n",
    "nonushta = tuple(nonushta)\n",
    "nonushta[0] = 'qaymoq va non'"
   ]
  },
  {
   "cell_type": "code",
   "execution_count": 1,
   "metadata": {},
   "outputs": [
    {
     "name": "stdout",
     "output_type": "stream",
     "text": [
      "Xurmatli Doston! Sizni to'yimga taklif qilaman!\n",
      "Xurmatli Ismoil! Sizni to'yimga taklif qilaman!\n",
      "Xurmatli Husniddin! Sizni to'yimga taklif qilaman!\n",
      "Xurmatli Imom! Sizni to'yimga taklif qilaman!\n",
      "Xurmatli Elbek! Sizni to'yimga taklif qilaman!\n"
     ]
    }
   ],
   "source": [
    "ismlar = ['Doston', 'Ismoil','Husniddin', 'Imom', 'Elbek']\n",
    "\n",
    "for ism in ismlar:\n",
    "    print(f'Xurmatli {ism}! Sizni to\\'yimga taklif qilaman!')"
   ]
  },
  {
   "cell_type": "code",
   "execution_count": 3,
   "metadata": {},
   "outputs": [
    {
     "name": "stdout",
     "output_type": "stream",
     "text": [
      "Fod 9 marta takrorladi\n"
     ]
    }
   ],
   "source": [
    "for  n in range(10):\n",
    "    pass\n",
    "print(f'Fod {n} marta takrorladi')"
   ]
  },
  {
   "cell_type": "code",
   "execution_count": 8,
   "metadata": {},
   "outputs": [
    {
     "name": "stdout",
     "output_type": "stream",
     "text": [
      "11 ning kubi 1331\n",
      "13 ning kubi 2197\n",
      "15 ning kubi 3375\n",
      "17 ning kubi 4913\n",
      "19 ning kubi 6859\n",
      "21 ning kubi 9261\n",
      "23 ning kubi 12167\n",
      "25 ning kubi 15625\n",
      "27 ning kubi 19683\n",
      "29 ning kubi 24389\n",
      "31 ning kubi 29791\n",
      "33 ning kubi 35937\n",
      "35 ning kubi 42875\n",
      "37 ning kubi 50653\n",
      "39 ning kubi 59319\n",
      "41 ning kubi 68921\n",
      "43 ning kubi 79507\n",
      "45 ning kubi 91125\n",
      "47 ning kubi 103823\n",
      "49 ning kubi 117649\n",
      "51 ning kubi 132651\n",
      "53 ning kubi 148877\n",
      "55 ning kubi 166375\n",
      "57 ning kubi 185193\n",
      "59 ning kubi 205379\n",
      "61 ning kubi 226981\n",
      "63 ning kubi 250047\n",
      "65 ning kubi 274625\n",
      "67 ning kubi 300763\n",
      "69 ning kubi 328509\n",
      "71 ning kubi 357911\n",
      "73 ning kubi 389017\n",
      "75 ning kubi 421875\n",
      "77 ning kubi 456533\n",
      "79 ning kubi 493039\n",
      "81 ning kubi 531441\n",
      "83 ning kubi 571787\n",
      "85 ning kubi 614125\n",
      "87 ning kubi 658503\n",
      "89 ning kubi 704969\n",
      "91 ning kubi 753571\n",
      "93 ning kubi 804357\n",
      "95 ning kubi 857375\n",
      "97 ning kubi 912673\n",
      "99 ning kubi 970299\n"
     ]
    }
   ],
   "source": [
    "for n in range(9,100,2):\n",
    "    if n == 9:\n",
    "        pass\n",
    "    else: print(f'{n} ning kubi {n**3}')\n"
   ]
  },
  {
   "cell_type": "code",
   "execution_count": 9,
   "metadata": {},
   "outputs": [
    {
     "name": "stdout",
     "output_type": "stream",
     "text": [
      "['avatar', 'prision break', 'vatan', 'we are from future', 'Balto']\n"
     ]
    }
   ],
   "source": [
    "kinolar = []\n",
    "for kino in range(5):\n",
    "    kinolar.append(input(\"Sevimli filmingiz: \"))\n",
    "print(kinolar)"
   ]
  },
  {
   "cell_type": "code",
   "execution_count": 6,
   "metadata": {},
   "outputs": [
    {
     "name": "stdout",
     "output_type": "stream",
     "text": [
      "Toyota\n",
      "Mazda\n",
      "Hyundai\n",
      "GM\n",
      "Kia\n"
     ]
    }
   ],
   "source": [
    "cars = ['toyota', 'mazda', 'hyundai', 'gm', 'kia']\n",
    "for car in cars:\n",
    "    print(car.title())  if car != 'gm' else print(car.upper())\n",
    "        \n"
   ]
  },
  {
   "cell_type": "code",
   "execution_count": 8,
   "metadata": {},
   "outputs": [
    {
     "name": "stdout",
     "output_type": "stream",
     "text": [
      "Xush kelibsiz, Admin. Foydalanuvchilar ro'yxatini ko'rasizmi?\n"
     ]
    }
   ],
   "source": [
    "login = input(\"Ismingiz: \").lower()\n",
    "if login  == 'admin':\n",
    "    print(\"Xush kelibsiz, Admin. Foydalanuvchilar ro'yxatini ko'rasizmi?\")\n",
    "else: print(f'Xush kelibsiz, {login}')"
   ]
  },
  {
   "cell_type": "code",
   "execution_count": 10,
   "metadata": {},
   "outputs": [
    {
     "name": "stdout",
     "output_type": "stream",
     "text": [
      "teng emas\n"
     ]
    }
   ],
   "source": [
    "a = input(\"a:\")\n",
    "b = input(\"b: \")\n",
    "print(\"Sonlar teng\") if a == b else print('teng emas')"
   ]
  },
  {
   "cell_type": "code",
   "execution_count": 15,
   "metadata": {},
   "outputs": [
    {
     "name": "stdout",
     "output_type": "stream",
     "text": [
      "manfiy\n"
     ]
    }
   ],
   "source": [
    "a = int(input(\"a:\"))\n",
    "if a >0:\n",
    "    print('musbat')\n",
    "elif a == 0:\n",
    "    pass\n",
    "else: print('manfiy')"
   ]
  },
  {
   "cell_type": "code",
   "execution_count": 17,
   "metadata": {},
   "outputs": [
    {
     "name": "stdout",
     "output_type": "stream",
     "text": [
      "Musbat son kiriting\n"
     ]
    }
   ],
   "source": [
    "import math\n",
    "a = int(input('a:'))\n",
    "if a >= 0 :\n",
    "    print(math.sqrt(a))\n",
    "else: print('Musbat son kiriting')"
   ]
  },
  {
   "cell_type": "code",
   "execution_count": 2,
   "metadata": {},
   "outputs": [
    {
     "name": "stdout",
     "output_type": "stream",
     "text": [
      "Rahmat\n"
     ]
    }
   ],
   "source": [
    "a = int(input(\"Juft son kiriting: \"))\n",
    "if a%2 == 0:\n",
    "    print('Rahmat')\n",
    "else: print('Bu son just emas!')"
   ]
  },
  {
   "cell_type": "code",
   "execution_count": 6,
   "metadata": {},
   "outputs": [
    {
     "name": "stdout",
     "output_type": "stream",
     "text": [
      "Entrace for you 20000\n"
     ]
    }
   ],
   "source": [
    "age = int(input('Your age: '))\n",
    "if age <= 4 or age >=60:\n",
    "    payment = 'free'\n",
    "elif age <= 18:\n",
    "    payment = 10000\n",
    "else: \n",
    "    payment = 20000\n",
    "\n",
    "print(f'Entrace for you {payment}')"
   ]
  },
  {
   "cell_type": "code",
   "execution_count": 7,
   "metadata": {},
   "outputs": [
    {
     "name": "stdout",
     "output_type": "stream",
     "text": [
      " b katta\n"
     ]
    }
   ],
   "source": [
    "a = int(input('a:'))\n",
    "b = int(input('a:'))\n",
    "if a == b:\n",
    "    print('teng')\n",
    "elif a>b:\n",
    "    print('a katta')\n",
    "else: print(' b katta')"
   ]
  },
  {
   "cell_type": "code",
   "execution_count": 2,
   "metadata": {},
   "outputs": [
    {
     "name": "stdout",
     "output_type": "stream",
     "text": [
      "olma bor\n",
      "anjir yo'q\n",
      "gilos bor\n",
      "karam bor\n",
      "banan yo'q\n"
     ]
    }
   ],
   "source": [
    "mahsulotlar = ['sabzi', 'olma','ananas','kakos','gilos','karam', 'guruch', 'un','sarimsoq',' piyoz']\n",
    "savat = []\n",
    "for mahsulot in range(5):\n",
    "    savat.append(input('Qanday mahsulotlar sotib olmoqchisiz? \\n').lower())\n",
    "for product in savat:\n",
    "    if product in mahsulotlar:\n",
    "        print(f'{product} bor')\n",
    "    else: print(f'{product} yo\\'q')\n",
    "\n"
   ]
  },
  {
   "cell_type": "code",
   "execution_count": 4,
   "metadata": {},
   "outputs": [
    {
     "name": "stdout",
     "output_type": "stream",
     "text": [
      "Siz so'ragan barcha mahsulotlar do'konimizda bor\n"
     ]
    }
   ],
   "source": [
    "mahsulotlar = ['sabzi', 'olma','ananas','kakos','gilos','karam', 'guruch', 'un','sarimsoq',' piyoz']\n",
    "savat = []\n",
    "mavjud = []\n",
    "mavjudmas = []\n",
    "for mahsulot in range(5):\n",
    "    savat.append(input('Qanday mahsulotlar sotib olmoqchisiz? \\n').lower())\n",
    "for product in savat:\n",
    "    if product in mahsulotlar:\n",
    "        mavjud.append(product)\n",
    "    else: mavjudmas.append(product)\n",
    "if mavjudmas:\n",
    "    print(f'Quyidagi mahsulotlar dukonimizda yuq: {mavjudmas}')\n",
    "else: print(\"Siz so'ragan barcha mahsulotlar do'konimizda bor\")"
   ]
  },
  {
   "cell_type": "code",
   "execution_count": 14,
   "metadata": {},
   "outputs": [
    {
     "name": "stdout",
     "output_type": "stream",
     "text": [
      " Xush kelibsiz Kamronbek Solih\n"
     ]
    }
   ],
   "source": [
    "foydalanuvchilar = ['doston','ismoil','kamron solih', 'husniddin','elbek']\n",
    "yangi_login = input('O\\'z loginingizni kiriting: ')\n",
    "if yangi_login.lower() in foydalanuvchilar:\n",
    "    print(\"Login band, yangi login tanlang!\")\n",
    "else: \n",
    "    foydalanuvchilar.append(yangi_login.lower())\n",
    "    print(f' Xush kelibsiz {yangi_login.title()}!')"
   ]
  },
  {
   "cell_type": "code",
   "execution_count": 16,
   "metadata": {},
   "outputs": [],
   "source": [
    "son = int(input('Son kiriting: '))\n",
    "for i in range(2,10):\n",
    "    if not (son%i):\n",
    "        print(f'{son} {i} ga qoldiqsiz bo\\'linadi')\n"
   ]
  },
  {
   "cell_type": "code",
   "execution_count": 3,
   "metadata": {},
   "outputs": [
    {
     "name": "stdout",
     "output_type": "stream",
     "text": [
      "Bu son juft emas.\n"
     ]
    }
   ],
   "source": [
    "son = float(input(\"Juft son kiriting: \"))\n",
    "if son%2 != 0:\n",
    "    print(\"Bu son juft emas.\")\n",
    "else:\n",
    "    print(\"Rahmat!\")"
   ]
  },
  {
   "cell_type": "code",
   "execution_count": 4,
   "metadata": {},
   "outputs": [
    {
     "name": "stdout",
     "output_type": "stream",
     "text": [
      "Chipta 20000 so'm\n"
     ]
    }
   ],
   "source": [
    "yosh = int(input(\"Yoshingiz nechida?\"))\n",
    "\n",
    "if yosh<=4 or yosh>=60:\n",
    "    narh = 0\n",
    "elif yosh < 18:\n",
    "    narh = 10000\n",
    "else:\n",
    "    narh = 20000\n",
    "print(f\"Chipta {narh} so'm\")"
   ]
  },
  {
   "cell_type": "code",
   "execution_count": 5,
   "metadata": {},
   "outputs": [
    {
     "name": "stdout",
     "output_type": "stream",
     "text": [
      "1.2<2.2\n"
     ]
    }
   ],
   "source": [
    "x = float(input(\"Birinchi sonni kiriting: \"))\n",
    "y = float(input(\"Ikkinchi sonni kiriting: \"))\n",
    "if x==y:\n",
    "    print(f\"{x}={y}\")\n",
    "elif x<y:\n",
    "    print(f\"{x}<{y}\")\n",
    "else:\n",
    "    print(f\"{x}>{y}\")"
   ]
  },
  {
   "cell_type": "code",
   "execution_count": null,
   "metadata": {},
   "outputs": [],
   "source": [
    "mahsulotlar = ['un', \"yog'\", \"sovun\", 'tuxum', 'piyoz',\n",
    "               'kartoshka', 'olma', 'banan', 'uzum', 'qovun']\n",
    "\n",
    "\n",
    "for n in range(5):\n",
    "    savat.append(input(f\"Savatga {n+1}-mahsulotni qo'shing: \"))\n",
    "\n",
    "if savat:\n",
    "    for mahsulot in savat:\n",
    "        if mahsulot in mahsulotlar:\n",
    "            print(f\"Do'konimizda {mahsulot} bor\")\n",
    "        else:\n",
    "            print(f\"Do'konimizda {mahsulot} yo'q\")\n",
    "else: \n",
    "    print(\"Savatingiz bo'sh\")            "
   ]
  },
  {
   "cell_type": "code",
   "execution_count": 6,
   "metadata": {},
   "outputs": [
    {
     "name": "stdout",
     "output_type": "stream",
     "text": [
      "Siz so'ragan barcha mahsulotlar do'konimizda bor\n"
     ]
    }
   ],
   "source": [
    "mahsulotlar = ['un', \"yog'\", \"sovun\", 'tuxum', 'piyoz',\n",
    "               'kartoshka', 'olma', 'banan', 'uzum', 'qovun']\n",
    "\n",
    "\n",
    "savat = []\n",
    "for n in range(5):\n",
    "    savat.append(input(f'Savatga {n+1}-mahsulotni qoshing: '))\n",
    "\n",
    "bor_mahsulotlar = []\n",
    "mavjud_emas = []\n",
    "for mahsulot in savat:\n",
    "    if mahsulot in mahsulotlar:\n",
    "        bor_mahsulotlar.append(mahsulot)\n",
    "    else:\n",
    "        mavjud_emas.append(mahsulot)\n",
    "\n",
    "if mavjud_emas:\n",
    "  print(\"Do'konimizda quyidagi mahsulotlar yo'q:\")\n",
    "for mahsulot in mavjud_emas:\n",
    "  print(mahsulot)\n",
    "else:\n",
    "  print(\"Siz so'ragan barcha mahsulotlar do'konimizda bor\")\n",
    "    "
   ]
  },
  {
   "cell_type": "code",
   "execution_count": 7,
   "metadata": {},
   "outputs": [
    {
     "name": "stdout",
     "output_type": "stream",
     "text": [
      "Xush kelibsiz!\n"
     ]
    }
   ],
   "source": [
    "users = ['alisher1983','aziza','yasina' 'umar']\n",
    "\n",
    "login = input(\"Yangi login tanlang:\" )\n",
    "\n",
    "if login in users:\n",
    "    print('Login band, yangi login tanalng!')\n",
    "else:\n",
    "    print(\"Xush kelibsiz!\")"
   ]
  }
 ],
 "metadata": {
  "kernelspec": {
   "display_name": "Python 3.10.7 64-bit",
   "language": "python",
   "name": "python3"
  },
  "language_info": {
   "codemirror_mode": {
    "name": "ipython",
    "version": 3
   },
   "file_extension": ".py",
   "mimetype": "text/x-python",
   "name": "python",
   "nbconvert_exporter": "python",
   "pygments_lexer": "ipython3",
   "version": "3.10.7"
  },
  "orig_nbformat": 4,
  "vscode": {
   "interpreter": {
    "hash": "fb4569285eef3a3450cb62085a5b1e0da4bce0af555edc33dcf29baf3acc1368"
   }
  }
 },
 "nbformat": 4,
 "nbformat_minor": 2
}
